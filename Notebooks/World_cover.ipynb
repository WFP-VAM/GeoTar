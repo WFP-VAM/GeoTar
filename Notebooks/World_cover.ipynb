{
 "cells": [
  {
   "cell_type": "code",
   "execution_count": null,
   "id": "daf3ffbe-765c-48e7-b4f6-735db8d63ffe",
   "metadata": {},
   "outputs": [],
   "source": [
    "from osgeo import gdal, gdal_array\n",
    "import numpy as np\n",
    "import os\n",
    "from terracatalogueclient import Catalogue \n",
    "from shapely.geometry import Polygon\n",
    "import geopandas as gpd\n",
    "from shapely.geometry import box\n",
    "import requests\n",
    "from tqdm.auto import tqdm  # provides a progressbar\n",
    "from pathlib import Path"
   ]
  },
  {
   "cell_type": "code",
   "execution_count": null,
   "id": "d9fa7f7e-26ba-408a-b4f7-42bb31b35554",
   "metadata": {},
   "outputs": [],
   "source": [
    "# create catalogue object and authenticate \n",
    "catalogue = Catalogue().authenticate() \n",
    "\n",
    "# search for products in the WorldCover collection \n",
    "products = catalogue.get_products(\"urn:eop:VITO:ESA_WorldCover_10m_2020_V1\") \n",
    "\n",
    "# download the products to the given directory \n",
    "catalogue.download_products(products, \"downloads\") \n",
    "\n",
    "### Authenticate to the Terrascope platform (registration required) \n",
    "# create catalogue object and authenticate interactively with a browser \n",
    "# catalogue = Catalogue().authenticate()  \n",
    "\n",
    "# or authenticate with username and password \n",
    "catalogue = catalogue.authenticate_non_interactive(\"username\", \"Password\") \n",
    "\n",
    "### Filter catalogue \n",
    "# search for all products in the WorldCover collection \n",
    "products = catalogue.get_products(\"urn:eop:VITO:ESA_WorldCover_10m_2020_V1\") \n",
    "products\n",
    "# or filter to a desired geometry, by providing it as an argument to get_products \n",
    "\n",
    "bounds = (3, 33, 15, 45) \n",
    "geometry = Polygon.from_bounds(*bounds) \n",
    "#products = catalogue.get_products(\"urn:eop:VITO:ESA_WorldCover_10m_2020_V1\", geometry=geometry) \n",
    "\n",
    "## Download \n",
    "# download the products to the given directory \n",
    "#catalogue.download_products(products, \"downloads\") "
   ]
  },
  {
   "cell_type": "code",
   "execution_count": null,
   "id": "9f737255-81f2-496e-abc2-6e8d4e49202c",
   "metadata": {},
   "outputs": [],
   "source": [
    "# get AOI geometry (select a country name)\n",
    "country = 'Somalia'"
   ]
  },
  {
   "cell_type": "code",
   "execution_count": null,
   "id": "b73ffd21-e81b-4b70-a2e9-c0d3a2ba5c59",
   "metadata": {},
   "outputs": [],
   "source": [
    "\n",
    "s3_url_prefix = \"https://esa-worldcover.s3.eu-central-1.amazonaws.com\"\n",
    "\n",
    "# load natural earth low res shapefile\n",
    "ne = gpd.read_file(gpd.datasets.get_path(\"naturalearth_lowres\"))\n",
    "\n",
    "geom = ne[ne.name == country].iloc[0].geometry\n",
    "\n",
    "# Define the bounding box coordinates: [minx, miny, maxx, maxy]\n",
    "bbox = [40.39407136, -1.92483662, 51.58562142, 13.63884234]\n",
    "\n",
    "# Create a GeoDataFrame with a single geometry representing the bounding box\n",
    "geom1 = gpd.GeoDataFrame(geometry=[box(bbox[0], bbox[1], bbox[2], bbox[3])], crs='EPSG:4326')\n",
    "geom1= geom1.geometry.iloc[0]\n",
    "#print(geom)\n",
    "#geom = gpd.[40.39407136, -1.92483662, 51.58562142, 13.63884234].geometry\n",
    "\n",
    "# load worldcover grid\n",
    "url = f'{s3_url_prefix}/esa_worldcover_grid.geojson'\n",
    "#print(url)\n",
    "grid = gpd.read_file(url)\n",
    "#grid = grid.reset_index(drop=True)\n",
    "# get grid tiles intersecting AOI\n",
    "\n",
    "# Reset indices of both GeoDataFrames\n",
    "#grid = grid.reset_index(drop=True)\n",
    "#geom = geom.reset_index(drop=True)\n",
    "tiles = grid[grid.intersects(geom1)]\n",
    "#tiles = gpd.overlay(grid, geom1, how='intersection')\n"
   ]
  },
  {
   "cell_type": "code",
   "execution_count": null,
   "id": "b98b8e6a-9404-431a-8179-7741b33b4087",
   "metadata": {},
   "outputs": [],
   "source": [
    "\n",
    "import matplotlib.pyplot as plt\n",
    "# Plot both GeoDataFrames on the same figure\n",
    "fig, ax = plt.subplots(figsize=(8, 8))\n",
    "\n",
    "# Plot the grid GeoDataFrame\n",
    "grid.plot(ax=ax, color='lightgray', edgecolor='black', alpha=0.5)\n",
    "\n",
    "# Plot the bounding box GeoDataFrame\n",
    "geom1.plot(ax=ax, color='red', alpha=0.5)\n",
    "\n",
    "# Customize the plot as needed\n",
    "ax.set_title(\"Overlay of GeoDataFrames\")\n",
    "ax.set_xlabel(\"Longitude\")\n",
    "ax.set_ylabel(\"Latitude\")\n",
    "\n",
    "# Show the plot\n",
    "plt.show()"
   ]
  },
  {
   "cell_type": "code",
   "execution_count": null,
   "id": "de3486b8-b985-4eae-a283-3de7b2619c07",
   "metadata": {},
   "outputs": [],
   "source": [
    "# define the output folder path\n",
    "output_folder = r\"C:\\Users\\oscar.bautista\\OneDrive - World Food Programme\\Downloads\\WC_ESA\"+f\"/{country}\"  # use current directory or set a different one to store downloaded files\n",
    "# create the directory if it does not exist\n",
    "if not os.path.exists(output_folder):\n",
    "    os.makedirs(output_folder)"
   ]
  },
  {
   "cell_type": "code",
   "execution_count": null,
   "id": "b9db1784-05b3-4989-ba87-d6ce75df726a",
   "metadata": {},
   "outputs": [],
   "source": [
    "\n",
    "year = 2021  # setting this to 2020 will download the v100 product instead\n",
    "\n",
    "# select version tag, based on the year\n",
    "version = {2020: 'v100',\n",
    "           2021: 'v200'}[year]\n",
    "\n",
    "for tile in tqdm(tiles.ll_tile):\n",
    "    url = f\"{s3_url_prefix}/{version}/{year}/map/ESA_WorldCover_10m_{year}_{version}_{tile}_Map.tif\"\n",
    "    out_fn = Path(output_folder) / Path(url).name\n",
    "    if not out_fn.exists():\n",
    "        r = requests.get(url, allow_redirects=True)\n",
    "        with open(out_fn, 'wb') as f:\n",
    "            f.write(r.content)"
   ]
  },
  {
   "cell_type": "code",
   "execution_count": 15,
   "id": "f6abe00f-22dd-4581-97e4-2774ff2f1997",
   "metadata": {},
   "outputs": [
    {
     "name": "stdout",
     "output_type": "stream",
     "text": [
      "C:\\Users\\oscar.bautista\\OneDrive - World Food Programme\\Downloads\\WC_ESA\\mosaic\\Somalia\\mosaic_warp_func_list.tif\n"
     ]
    }
   ],
   "source": [
    "# Set the output file path and name\n",
    "output_mosaic_path = r\"C:\\Users\\oscar.bautista\\OneDrive - World Food Programme\\Downloads\\WC_ESA\\mosaic\"+f\"\\\\{country}\"\n",
    "file_name=\"mosaic_warp_func_list\"\n",
    "mosaic_file_tif = output_mosaic_path+\"\\\\\"+file_name+\".tif\"\n",
    "# create the directory if it does not exist\n",
    "if not os.path.exists(output_mosaic_path):\n",
    "    os.makedirs(output_mosaic_path)\n",
    "\n",
    "print(mosaic_file_tif)"
   ]
  },
  {
   "cell_type": "code",
   "execution_count": 16,
   "id": "e3d55b2e-9d54-457c-a822-a797cb301ba2",
   "metadata": {},
   "outputs": [],
   "source": [
    "# Define the reference raster\n",
    "ref_tiff = r\"C:\\Geotar\\SOM\\geodata\\Processed\\Vegetation\\season\\ndvi_m_s.tif\""
   ]
  },
  {
   "cell_type": "code",
   "execution_count": 19,
   "id": "72c574b7-f3af-4b7f-9a3a-1f9cba0a6749",
   "metadata": {},
   "outputs": [],
   "source": [
    "def WorldcovertoMODIS(dst_file,tiffs_path, ref_tif):\n",
    "    '''Function to mosaic the tiff files downloaded from the worldcover dataset AWS bucket\n",
    "    Inputs are:\n",
    "    1. the output tiff path\n",
    "    2. path to the tiled tif files\n",
    "    3. NDVI MODIS processed file\n",
    "    '''\n",
    "    # List all TIFF files in the working directory with complete file paths\n",
    "    tiffslist = [os.path.join(tiffs_path, f) for f in os.listdir(tiffs_path) if f.endswith('.tif')]\n",
    "    print(\"Files available: \")\n",
    "\n",
    "    for i in tiffslist:\n",
    "        print(i)\n",
    "        \n",
    "    def get_extent(ref_tif):\n",
    "        dataset = gdal.Open(ref_tif)\n",
    "        if dataset is None:\n",
    "            print(\"Failed to open the raster file.\")\n",
    "            return None\n",
    "\n",
    "        # Get geotransform information\n",
    "        geotransform = dataset.GetGeoTransform()\n",
    "        if geotransform is None:\n",
    "            print(\"Failed to get geotransform information.\")\n",
    "            return None\n",
    "\n",
    "        # Extract extent\n",
    "        minX = geotransform[0]\n",
    "        maxY = geotransform[3]\n",
    "        maxX = minX + geotransform[1] * dataset.RasterXSize\n",
    "        minY = maxY + geotransform[5] * dataset.RasterYSize\n",
    "    \n",
    "        # Extract x and y resolutions\n",
    "        xRes = abs(geotransform[1])\n",
    "        yRes = abs(geotransform[5])\n",
    "\n",
    "        return minX, minY, maxX, maxY, xRes, yRes\n",
    "    minX, minY, maxX, maxY, xRes, yRes = get_extent(ref_tif)\n",
    "    #keyword arguments that define extent and pixel size, these match the footprint og the modis ndvi data\n",
    "    kwargs={'format': 'GTiff',\n",
    "        'outputBounds':[minX, minY, maxX, maxY],\n",
    "        'outputBoundsSRS':'EPSG:4326',\n",
    "        'xRes':xRes,\n",
    "        'yRes':yRes,\n",
    "        'width':4984,\n",
    "        'height':6932,\n",
    "           }\n",
    "    #warp opetation\n",
    "    gdal.Warp(dst_file, tiffslist, **kwargs)\n",
    "    dst_file= None\n",
    "    print(mosaic_file_tif, \"processed successfully\")"
   ]
  },
  {
   "cell_type": "code",
   "execution_count": 20,
   "id": "ea816269-14b1-4f5c-a624-6a4c167a46e8",
   "metadata": {},
   "outputs": [
    {
     "name": "stdout",
     "output_type": "stream",
     "text": [
      "C:\\Users\\oscar.bautista\\OneDrive - World Food Programme\\Downloads\\WC_ESA/Somalia\\ESA_WorldCover_10m_2021_v200_N00E039_Map.tif\n",
      "C:\\Users\\oscar.bautista\\OneDrive - World Food Programme\\Downloads\\WC_ESA/Somalia\\ESA_WorldCover_10m_2021_v200_N00E042_Map.tif\n",
      "C:\\Users\\oscar.bautista\\OneDrive - World Food Programme\\Downloads\\WC_ESA/Somalia\\ESA_WorldCover_10m_2021_v200_N00E045_Map.tif\n",
      "C:\\Users\\oscar.bautista\\OneDrive - World Food Programme\\Downloads\\WC_ESA/Somalia\\ESA_WorldCover_10m_2021_v200_N03E039_Map.tif\n",
      "C:\\Users\\oscar.bautista\\OneDrive - World Food Programme\\Downloads\\WC_ESA/Somalia\\ESA_WorldCover_10m_2021_v200_N03E042_Map.tif\n",
      "C:\\Users\\oscar.bautista\\OneDrive - World Food Programme\\Downloads\\WC_ESA/Somalia\\ESA_WorldCover_10m_2021_v200_N03E045_Map.tif\n",
      "C:\\Users\\oscar.bautista\\OneDrive - World Food Programme\\Downloads\\WC_ESA/Somalia\\ESA_WorldCover_10m_2021_v200_N03E048_Map.tif\n",
      "C:\\Users\\oscar.bautista\\OneDrive - World Food Programme\\Downloads\\WC_ESA/Somalia\\ESA_WorldCover_10m_2021_v200_N06E039_Map.tif\n",
      "C:\\Users\\oscar.bautista\\OneDrive - World Food Programme\\Downloads\\WC_ESA/Somalia\\ESA_WorldCover_10m_2021_v200_N06E042_Map.tif\n",
      "C:\\Users\\oscar.bautista\\OneDrive - World Food Programme\\Downloads\\WC_ESA/Somalia\\ESA_WorldCover_10m_2021_v200_N06E045_Map.tif\n",
      "C:\\Users\\oscar.bautista\\OneDrive - World Food Programme\\Downloads\\WC_ESA/Somalia\\ESA_WorldCover_10m_2021_v200_N06E048_Map.tif\n",
      "C:\\Users\\oscar.bautista\\OneDrive - World Food Programme\\Downloads\\WC_ESA/Somalia\\ESA_WorldCover_10m_2021_v200_N09E039_Map.tif\n",
      "C:\\Users\\oscar.bautista\\OneDrive - World Food Programme\\Downloads\\WC_ESA/Somalia\\ESA_WorldCover_10m_2021_v200_N09E042_Map.tif\n",
      "C:\\Users\\oscar.bautista\\OneDrive - World Food Programme\\Downloads\\WC_ESA/Somalia\\ESA_WorldCover_10m_2021_v200_N09E045_Map.tif\n",
      "C:\\Users\\oscar.bautista\\OneDrive - World Food Programme\\Downloads\\WC_ESA/Somalia\\ESA_WorldCover_10m_2021_v200_N09E048_Map.tif\n",
      "C:\\Users\\oscar.bautista\\OneDrive - World Food Programme\\Downloads\\WC_ESA/Somalia\\ESA_WorldCover_10m_2021_v200_N09E051_Map.tif\n",
      "C:\\Users\\oscar.bautista\\OneDrive - World Food Programme\\Downloads\\WC_ESA/Somalia\\ESA_WorldCover_10m_2021_v200_N12E039_Map.tif\n",
      "C:\\Users\\oscar.bautista\\OneDrive - World Food Programme\\Downloads\\WC_ESA/Somalia\\ESA_WorldCover_10m_2021_v200_N12E042_Map.tif\n",
      "C:\\Users\\oscar.bautista\\OneDrive - World Food Programme\\Downloads\\WC_ESA/Somalia\\ESA_WorldCover_10m_2021_v200_N12E045_Map.tif\n",
      "C:\\Users\\oscar.bautista\\OneDrive - World Food Programme\\Downloads\\WC_ESA/Somalia\\ESA_WorldCover_10m_2021_v200_N12E048_Map.tif\n",
      "C:\\Users\\oscar.bautista\\OneDrive - World Food Programme\\Downloads\\WC_ESA/Somalia\\ESA_WorldCover_10m_2021_v200_N12E051_Map.tif\n",
      "C:\\Users\\oscar.bautista\\OneDrive - World Food Programme\\Downloads\\WC_ESA/Somalia\\ESA_WorldCover_10m_2021_v200_S03E039_Map.tif\n",
      "C:\\Users\\oscar.bautista\\OneDrive - World Food Programme\\Downloads\\WC_ESA/Somalia\\ESA_WorldCover_10m_2021_v200_S03E042_Map.tif\n"
     ]
    }
   ],
   "source": [
    "WorldcovertoMODIS(mosaic_file_tif, output_folder, ref_tiff)"
   ]
  }
 ],
 "metadata": {
  "kernelspec": {
   "display_name": "Python 3 (ipykernel)",
   "language": "python",
   "name": "python3"
  },
  "language_info": {
   "codemirror_mode": {
    "name": "ipython",
    "version": 3
   },
   "file_extension": ".py",
   "mimetype": "text/x-python",
   "name": "python",
   "nbconvert_exporter": "python",
   "pygments_lexer": "ipython3",
   "version": "3.10.8"
  }
 },
 "nbformat": 4,
 "nbformat_minor": 5
}
