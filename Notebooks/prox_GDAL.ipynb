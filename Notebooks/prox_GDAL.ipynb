{
 "cells": [
  {
   "cell_type": "code",
   "execution_count": 4,
   "id": "a01fc081-9622-4538-a228-c0069e886612",
   "metadata": {
    "tags": []
   },
   "outputs": [],
   "source": [
    "import geopandas as gpd\n",
    "from osgeo import gdal, ogr\n",
    "import os"
   ]
  },
  {
   "cell_type": "code",
   "execution_count": 15,
   "id": "be80562d-eb36-4e11-8ab8-7b3a9e05cf5a",
   "metadata": {
    "tags": []
   },
   "outputs": [
    {
     "name": "stderr",
     "output_type": "stream",
     "text": [
      "C:\\Users\\oscar.bautista\\AppData\\Local\\Temp\\ipykernel_9320\\2266012215.py:22: UserWarning: Column names longer than 10 characters will be truncated when saved to ESRI Shapefile.\n",
      "  gdf.to_file(f\"C:/Geotar/{pilot}/geodata/workspace/health_clip.shp\")\n"
     ]
    }
   ],
   "source": [
    "\n",
    "\n",
    "\n",
    "# Input GeoPandas object file path\n",
    "#input_shp = 'C:/Geotar/CHAD/geodata/Raw/Roads/tcd_trs_roads_ocha/tcd_trs_roads_ocha.shp'\n",
    "# input_shp = f\"zip://C:/Geotar/{pilot}/geodata/Raw/Roads/irq_roads.zip/IRQ_roads.shp\"\n",
    "#mask_shp = \"C:/Geotar/CHAD/geodata/Processed/Mask/Chad_mask.shp\"\n",
    "#f'C:/Geotar/{pilot}/geodata/Processed/Mask/Najaf_mask.shp'\n",
    "pilot = \"COL\"\n",
    "\n",
    "#input_shp = f'C:/Geotar/{pilot}/geodata/Raw/Roads/Red_nal_dep.shp'\n",
    "input_shp = f'C:/Geotar/{pilot}/geodata/Raw/health/Colombia-node.shp'\n",
    "mask_shp = f'C:/Geotar/{pilot}/geodata/Processed/Mask/COL_mask.shp'\n",
    "\n",
    "# Output raster file path\n",
    "#output_file = f\"C:/Geotar/{pilot}/geodata/workspace/rast_road.tif\"\n",
    "output_file = f\"C:/Geotar/{pilot}/geodata/workspace/rast_health.tif\"\n",
    "\n",
    "# Read the GeoPandas object\n",
    "gdf = gpd.read_file(input_shp)\n",
    "mask = gpd.read_file(mask_shp)\n",
    "# Clip the func_gdf using the mask\n",
    "gdf = gpd.clip(gdf, mask)\n",
    "\n",
    "gdf.to_file(f\"C:/Geotar/{pilot}/geodata/workspace/health_clip.shp\")"
   ]
  },
  {
   "cell_type": "code",
   "execution_count": 16,
   "id": "10a9a6f5-d9ee-4985-9d56-cb8040d77caa",
   "metadata": {},
   "outputs": [],
   "source": [
    "#input_shp = f\"C:/Geotar/{pilot}/geodata/workspace/roads_clip.shp\"\n",
    "input_shp = f\"C:/Geotar/{pilot}/geodata/workspace/health_clip.shp\"\n",
    "# Define NoData value of new raster\n",
    "NoData_value = -9999\n",
    "\n",
    "# set the name and location of the output raster file\n",
    "#dst_filename = f\"C:/Geotar/{pilot}/geodata/Processed/250m/dist_roads.tif\"\n",
    "dst_filename = f\"C:/Geotar/{pilot}/geodata/Processed/250m/dist_health.tif\"\n",
    "\n",
    "# Open the data source and read in the extent\n",
    "source_ds = input_shp\n",
    "pixel_size = 0.0022457882102988 #250m\n",
    "\n",
    "vector_ds  = ogr.Open(mask_shp)\n",
    "shp_layer = vector_ds.GetLayer()\n",
    "\n",
    "xmin, xmax, ymin, ymax = shp_layer.GetExtent()\n",
    "\n",
    "# check if the output file already exists, and delete it if it does\n",
    "if os.path.exists(dst_filename):\n",
    "    drv = gdal.GetDriverByName('GTiff')\n",
    "    drv.Delete(output_file)\n",
    "\n",
    "# rasterize the vectori file suing the spatial resolution defined\n",
    "ds = gdal.Rasterize(output_file, source_ds, xRes=pixel_size, yRes=pixel_size, \n",
    "                    burnValues=1,outputBounds=[xmin, ymin, xmax, ymax], \n",
    "                    outputType=gdal.GDT_Byte, allTouched=True)\n",
    "ds = None\n",
    "source_ds = None"
   ]
  },
  {
   "cell_type": "code",
   "execution_count": 18,
   "id": "c603877d-5d87-42f4-b660-47d27b732d88",
   "metadata": {
    "tags": []
   },
   "outputs": [],
   "source": [
    "# open an existing raster file\n",
    "#output_file = f\"C:/Geotar/{pilot}/geodata/workspace/rast_road.tif\"\n",
    "output_file = f\"C:/Geotar/{pilot}/geodata/workspace/rast_health.tif\"\n",
    "src_ds = gdal.Open(output_file)\n",
    "\n",
    "# get the first band of the source raster file\n",
    "srcband = src_ds.GetRasterBand(1)\n",
    "\n",
    "# set the name and location of the output raster file\n",
    "#dst_filename = f\"C:/Geotar/{pilot}/geodata/Processed/250m/dist_roads.tif\"\n",
    "\n",
    "\n",
    "# check if the output file already exists, and delete it if it does\n",
    "if os.path.exists(dst_filename):\n",
    "    drv = gdal.GetDriverByName('GTiff')\n",
    "    drv.Delete(dst_filename)\n",
    "\n",
    "# create a new raster file with the same dimensions and data type as the source raster file\n",
    "# but with only one band of Float32 data type\n",
    "drv = gdal.GetDriverByName('GTiff')\n",
    "dst_ds = drv.Create(dst_filename, \n",
    "                    src_ds.RasterXSize, \n",
    "                    src_ds.RasterYSize, 1, \n",
    "                    gdal.GetDataTypeByName('Float32'))\n",
    "\n",
    "# set the geotransform and projection of the output raster file\n",
    "dst_ds.SetGeoTransform(src_ds.GetGeoTransform())\n",
    "dst_ds.SetProjection(src_ds.GetProjectionRef())\n",
    "\n",
    "#get the first band of the output raster file\n",
    "dstband = dst_ds.GetRasterBand(1)\n",
    "\n",
    "# Compute the proximity of the input raster values to the raster value of 1 \n",
    "# and write the resulting distances to the output raster file\n",
    "prox = gdal.ComputeProximity(srcband, dstband, [\"VALUES=1\", \"DISTUNITS=GEO\"])\n",
    "\n",
    "# close the input and output raster files and bands to free up memory\n",
    "srcband = None\n",
    "dstband = None\n",
    "src_ds = None\n",
    "dst_ds = None\n",
    "prox = None\n"
   ]
  },
  {
   "cell_type": "code",
   "execution_count": 20,
   "id": "8a274e33-596f-4884-a386-205abfa89bd4",
   "metadata": {
    "tags": []
   },
   "outputs": [],
   "source": [
    "src_ds\n",
    "\n",
    "# Scaling to a fixed range 0-1\n",
    "#proximity_normalized = (proximity_agg - proximity_agg.min()) / (proximity_agg.max() - proximity_agg.min())\n"
   ]
  }
 ],
 "metadata": {
  "kernelspec": {
   "display_name": "Python 3 (ipykernel)",
   "language": "python",
   "name": "python3"
  },
  "language_info": {
   "codemirror_mode": {
    "name": "ipython",
    "version": 3
   },
   "file_extension": ".py",
   "mimetype": "text/x-python",
   "name": "python",
   "nbconvert_exporter": "python",
   "pygments_lexer": "ipython3",
   "version": "3.10.8"
  }
 },
 "nbformat": 4,
 "nbformat_minor": 5
}
