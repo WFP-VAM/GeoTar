{
 "cells": [
  {
   "cell_type": "markdown",
   "id": "049f99ba-bf51-49eb-aa31-f5225946eb59",
   "metadata": {},
   "source": [
    "# Proximity rasters processing "
   ]
  },
  {
   "cell_type": "markdown",
   "id": "0382ba85-c7fa-43ed-b30a-4c33de9634b2",
   "metadata": {},
   "source": [
    "This is script can be run using geo or cloudserver environment.\n",
    "This script uses GDAL to rasterize line, polygon and point datasets."
   ]
  },
  {
   "cell_type": "code",
   "execution_count": 23,
   "id": "a01fc081-9622-4538-a228-c0069e886612",
   "metadata": {
    "tags": []
   },
   "outputs": [],
   "source": [
    "import geopandas as gpd\n",
    "from osgeo import gdal, ogr\n",
    "import os"
   ]
  },
  {
   "cell_type": "code",
   "execution_count": 39,
   "id": "95c6beda-98f6-4e53-b887-915cb94e7df2",
   "metadata": {
    "tags": []
   },
   "outputs": [
    {
     "name": "stdout",
     "output_type": "stream",
     "text": [
      "Please select the pilot area:\n",
      "1. COL\n",
      "2. CHAD\n",
      "3. IRAQ Dahuk\n",
      "4. IRAQ Najaf\n",
      "5. IRAQ\n",
      "6. LBN\n",
      "7. VEN\n",
      "8. AFG\n"
     ]
    },
    {
     "name": "stdin",
     "output_type": "stream",
     "text": [
      " 7\n"
     ]
    },
    {
     "name": "stdout",
     "output_type": "stream",
     "text": [
      "Please select data to process:\n",
      "1. Education facilities\n",
      "2. Healthcare facilities\n",
      "3. Roads\n"
     ]
    },
    {
     "name": "stdin",
     "output_type": "stream",
     "text": [
      " 3\n"
     ]
    },
    {
     "name": "stdout",
     "output_type": "stream",
     "text": [
      "Please select the spatial resolution:\n",
      "1. 1 kilometer\n",
      "2. 250 meters\n"
     ]
    },
    {
     "name": "stdin",
     "output_type": "stream",
     "text": [
      " 2\n"
     ]
    }
   ],
   "source": [
    "# Ask the user to select an option\n",
    "print(\"Please select the pilot area:\")\n",
    "print(\"1. COL\")\n",
    "print(\"2. CHAD\")\n",
    "print(\"3. IRAQ Dahuk\")\n",
    "print(\"4. IRAQ Najaf\")\n",
    "print(\"5. IRAQ\")\n",
    "print(\"6. LBN\")\n",
    "print(\"7. VEN\")\n",
    "print(\"8. AFG\")\n",
    "pilot = input()\n",
    "assert pilot in [\"1\", \"2\", \"3\", \"4\", \"5\",\"6\",\"7\",\"8\"], \"Invalid pilot area selected.\"\n",
    "\n",
    "print(\"Please select data to process:\")\n",
    "print(\"1. Education facilities\")\n",
    "print(\"2. Healthcare facilities\")\n",
    "print(\"3. Roads\")\n",
    "p_data = input()\n",
    "assert p_data in ['1', '2', '3'], \"Invalid option selected.\"\n",
    "\n",
    "print(\"Please select the spatial resolution:\")\n",
    "print(\"1. 1 kilometer\")\n",
    "print(\"2. 250 meters\")\n",
    "resolution = input()\n",
    "assert resolution in [\"1\", \"2\"], \"Invalid resolution selected.\"\n",
    "\n",
    "if p_data == \"1\":\n",
    "    out_name = \"education\"\n",
    "elif p_data == \"2\":\n",
    "    out_name = \"health\"\n",
    "elif p_data == \"3\":\n",
    "    out_name = \"roads\"\n",
    "else:\n",
    "    print(\"Invalid selection\")\n",
    "    \n",
    "if resolution == \"1\":\n",
    "    res_folder = \"1K\"\n",
    "elif resolution == \"2\":\n",
    "    res_folder = \"250m\"\n",
    "else:\n",
    "    print(\"Invalid spatial resolution\")"
   ]
  },
  {
   "cell_type": "code",
   "execution_count": 40,
   "id": "c15e7cc8-307e-4fe3-b165-45270f46b120",
   "metadata": {
    "tags": []
   },
   "outputs": [
    {
     "name": "stdout",
     "output_type": "stream",
     "text": [
      "You selected VEN Roads.\n"
     ]
    }
   ],
   "source": [
    "\n",
    "# Check the user\"s selection and print a message\n",
    "if pilot == \"1\" and p_data == \"1\":\n",
    "    pilot_nam = \"col\"\n",
    "    input_shp = f\"C:/Geotar/{pilot_nam}/geodata/Processed/Education/Education_facilities.shp\"\n",
    "    output = f\"C:/Geotar/{pilot_nam}/geodata/Processed/{res_folder}/dist_\"+ out_name + \".tif\"\n",
    "    print(f\"You selected {pilot_nam} Education facilities.\")\n",
    "elif pilot == \"1\" and p_data == \"2\":\n",
    "    input_shp = f\"C:/Geotar/{pilot_nam}/geodata/Raw/Health/Colombia-node.shp\"\n",
    "    mask_shp = f\"C:/Geotar/{pilot_nam}/geodata/Processed/Mask/COL_mask.shp\"\n",
    "    output = f\"C:/Geotar/{pilot_nam}/geodata/Processed/{res_folder}/dist\"+ out_name+ \".tif\"\n",
    "    print(f\"You selected {pilot_nam} Healthcare facilities.\")\n",
    "elif pilot == \"1\" and p_data == \"3\":\n",
    "    input_shp = \"\"\n",
    "    mask_shp = f\"C:/Geotar/{pilot_nam}/geodata/Processed/Mask/COL_mask.shp\"\n",
    "    output = f\"C:/Geotar/{pilot_nam}/geodata/Processed/{res_folder}/dist\"+ out_name+ \".tif\"\n",
    "    print(f\"You selected {pilot_nam} Roads.\")\n",
    "elif pilot == \"2\" and p_data == \"1\":\n",
    "    input_shp = \"zip://C:/Geotar/CHAD/geodata/Processed/Education/hotosm_chad_education_facilities_points_shp.zip/hotosm_chad_education_facilities_points.shp\"\n",
    "    mask_shp = \"C:/Geotar/CHAD/geodata/Processed/Mask/Chad_mask.shp\"\n",
    "    output = f\"C:/Geotar/CHAD/geodata/Processed/{res_folder}/dist\"+ out_name+ \".tif\"\n",
    "    print(\"You selected CHAD Education facilities.\")\n",
    "elif pilot == \"2\" and p_data == \"2\":\n",
    "    input_shp = \"C:/Geotar/CHAD/geodata/Processed/Health/Chad_Health_facilities.shp\"\n",
    "    mask_shp = \"C:/Geotar/CHAD/geodata/Processed/Mask/Chad_mask.shp\"\n",
    "    output = f\"C:/Geotar/CHAD/geodata/Processed/{res_folder}/dist_\"+ out_name+ \".tif\"\n",
    "    print(\"You selected CHAD Healthcare facilities.\")\n",
    "elif pilot == \"2\" and p_data == \"3\":\n",
    "    input_shp = \"zip://C:/Geotar/CHAD/geodata/Raw/Roads/tcd_trs_roads_ocha.zip/tcd_trs_roads_ocha/tcd_trs_roads_ocha.shp\"\n",
    "    mask_shp = \"C:/Geotar/CHAD/geodata/Processed/Mask/Chad_mask.shp\"\n",
    "    output = f\"C:/Geotar/CHAD/geodata/Processed/{res_folder}/dist_\"+ out_name+ \".tif\"\n",
    "    print(\"You selected CHAD Roads.\")\n",
    "elif pilot == \"3\" and p_data == \"1\":\n",
    "    input_shp = \"zip://C:/Geotar/IRAQ_D/geodata/Raw/Education/hotosm_irq_education_facilities_points_shp.zip/hotosm_irq_education_facilities_points.shp\"\n",
    "    mask_shp = \"C:/Geotar/IRAQ_D/geodata/Processed/Mask/Dahuk_mask.shp\"\n",
    "    output = f\"C:/Geotar/IRAQ_D/geodata/Processed/{res_folder}/dist_\"+ out_name+ \".tif\"\n",
    "    print(\"You selected IRAQ Dahuk Education facilities.\")\n",
    "elif pilot == \"3\" and p_data == \"2\":\n",
    "    input_shp = \"zip://C:/Geotar/IRAQ_D/geodata/Raw/Health/iraq-shapefiles.zip/shapefiles/healthsites.shp\"\n",
    "    mask_shp = \"C:/Geotar/IRAQ_D/geodata/Processed/Mask/Dahuk_mask.shp\"\n",
    "    output = f\"C:/Geotar/IRAQ_D/geodata/Processed/{res_folder}/dist_\"+ out_name+ \".tif\"\n",
    "    print(\"You selected IRAQ Dahuk Healthcare facilities.\")\n",
    "elif pilot == \"3\" and p_data == \"3\":\n",
    "    input_shp = \"\"\n",
    "    mask_shp = \"C:/Geotar/IRAQ_D/geodata/Processed/Mask/Dahuk_mask.shp\"\n",
    "    output = f\"C:/Geotar/IRAQ_D/geodata/Processed/{res_folder}/dist_\"+ out_name+ \".tif\"\n",
    "    print(\"You selected IRAQ Dahuk Roads.\")\n",
    "elif pilot == \"4\" and p_data == \"1\":\n",
    "    input_shp = \"zip://C:/Geotar/IRAQ_N/geodata/Raw/Education/hotosm_irq_education_facilities_points_shp.zip/hotosm_irq_education_facilities_points.shp\"\n",
    "    mask_shp = \"C:/Geotar/IRAQ_N/geodata/Processed/Mask/Najaf_mask.shp\"\n",
    "    output = f\"C:/Geotar/IRAQ_N/geodata/Processed/{res_folder}/dist_\"+ out_name+ \".tif\"\n",
    "    print(\"You selected IRAQ Najaf Education facilities.\")\n",
    "elif pilot == \"4\" and p_data == \"2\":\n",
    "    input_shp = \"zip://C:/Geotar/IRAQ_N/geodata/Raw/Health/iraq-shapefiles.zip/shapefiles/healthsites.shp\"\n",
    "    mask_shp = \"C:/Geotar/IRAQ_N/geodata/Processed/Mask/Najaf_mask.shp\"\n",
    "    output = f\"C:/Geotar/IRAQ_N/geodata/Processed/{res_folder}/dist_\"+ out_name+ \".tif\"\n",
    "    print(\"You selected IRAQ Najaf Healthcare facilities.\")\n",
    "elif pilot == \"4\" and p_data == \"3\":\n",
    "    input_shp = \"\"\n",
    "    mask_shp = \"C:/Geotar/IRAQ_N/geodata/Processed/Mask/Najaf_mask.shp\"\n",
    "    output = f\"C:/Geotar/IRAQ_N/geodata/Processed/{res_folder}/dist_\"+ out_name+ \".tif\"\n",
    "    print(\"You selected IRAQ Najaf Roads.\")\n",
    "elif pilot == \"5\" and p_data == \"1\":\n",
    "    pilot_nam = \"IRAQ\"\n",
    "    input_shp = f\"C:/Geotar/{pilot_nam}/geodata/Processed/Education/education.shp\"\n",
    "    mask_shp = f\"C:/Geotar/{pilot_nam}/geodata/Processed/Mask/Iraq_mask.shp\"\n",
    "    output = f\"C:/Geotar/{pilot_nam}/geodata/Processed/{res_folder}/dist_\"+ out_name+ \".tif\"\n",
    "    print(f\"You selected {pilot_nam} Education facilities.\")\n",
    "elif pilot == \"5\" and p_data == \"2\":\n",
    "    pilot_nam = \"IRAQ\"\n",
    "    input_shp = \"zip://C:/Geotar/IRAQ/geodata/Raw/Health/iraq-shapefiles.zip/shapefiles/healthsites.shp\"\n",
    "    mask_shp = f\"C:/Geotar/{pilot_nam}/geodata/Processed/Mask/Iraq_mask.shp\"\n",
    "    output = f\"C:/Geotar/{pilot_nam}/geodata/Processed/{res_folder}/dist_\"+ out_name+ \".tif\"\n",
    "    print(f\"You selected {pilot_nam} Healthcare facilities.\")\n",
    "elif pilot == \"5\" and p_data == \"3\":\n",
    "    pilot_nam = \"IRAQ\"\n",
    "    input_shp = \"zip://C:/Geotar/IRAQ/geodata/Raw/Roads/irq_roads.zip/IRQ_roads.shp\"\n",
    "    mask_shp = f\"C:/Geotar/{pilot_nam}/geodata/Processed/Mask/Iraq_mask.shp\"\n",
    "    output = f\"C:/Geotar/{pilot_nam}/geodata/Processed/{res_folder}/dist_\"+ out_name+ \".tif\"\n",
    "    print(f\"You selected {pilot_nam} Roads.\")\n",
    "elif pilot == \"6\" and p_data == \"1\":\n",
    "    pilot_nam = \"LBN\"\n",
    "    input_shp = f\"C:/Geotar/{pilot_nam}/geodata/Processed/Education/education.shp\"\n",
    "    mask_shp = f\"C:/Geotar/{pilot_nam}/geodata/Processed/Mask/LBY_mask.shp\"\n",
    "    output = f\"C:/Geotar/{pilot_nam}/geodata/Processed/{res_folder}/dist_\"+ out_name+ \".tif\"\n",
    "    print(f\"You selected {pilot_nam} Education facilities.\")\n",
    "elif pilot == \"6\" and p_data == \"2\":\n",
    "    pilot_nam = \"LBN\"\n",
    "    input_shp = f\"C:/Geotar/{pilot_nam}/geodata/Processed/Health/healthsites.shp\"\n",
    "    mask_shp = f\"C:/Geotar/{pilot_nam}/geodata/Processed/Mask/{pilot_nam}_mask.shp\"\n",
    "    output = f\"C:/Geotar/{pilot_nam}/geodata/Processed/{res_folder}/dist_\"+ out_name+ \".tif\"\n",
    "    print(f\"You selected {pilot_nam} Healthcare facilities.\")\n",
    "elif pilot == \"6\" and p_data == \"3\":\n",
    "    pilot_nam = \"LBN\"\n",
    "    input_shp = f\"C:/Geotar/{pilot_nam}/geodata/Processed/Roads/lbn_trs_roads_osm.shp\"\n",
    "    mask_shp = f\"C:/Geotar/{pilot_nam}/geodata/Processed/Mask/{pilot_nam}_mask.shp\"\n",
    "    output = f\"C:/Geotar/{pilot_nam}/geodata/Processed/{res_folder}/dist_\"+ out_name+ \".tif\"\n",
    "    print(f\"You selected {pilot_nam} Roads.\")\n",
    "elif pilot == \"7\" and p_data == \"1\":\n",
    "    pilot_nam = \"VEN\"\n",
    "    input_shp = f\"C:/Geotar/{pilot_nam}/geodata/Processed/Education/education.shp\"\n",
    "    mask_shp = f\"C:/Geotar/{pilot_nam}/geodata/Processed/Mask/{pilot_nam}_mask.shp\"\n",
    "    output = f\"C:/Geotar/{pilot_nam}/geodata/Processed/{res_folder}/dist_\"+ out_name+ \".tif\"\n",
    "    print(f\"You selected {pilot_nam} Education facilities.\")\n",
    "elif pilot == \"7\" and p_data == \"2\":\n",
    "    pilot_nam = \"VEN\"\n",
    "    input_shp = f\"C:/Geotar/{pilot_nam}/geodata/Processed/Health/healthsites.shp\"\n",
    "    mask_shp = f\"C:/Geotar/{pilot_nam}/geodata/Processed/Mask/{pilot_nam}_mask.shp\"\n",
    "    output = f\"C:/Geotar/{pilot_nam}/geodata/Processed/{res_folder}/dist_\"+ out_name+ \".tif\"\n",
    "    print(f\"You selected {pilot_nam} health facilities.\")\n",
    "elif pilot == \"7\" and p_data == \"3\":\n",
    "    pilot_nam = \"VEN\"\n",
    "    input_shp = f\"C:/Geotar/{pilot_nam}/geodata/Processed/Roads/roads.shp\"\n",
    "    mask_shp = f\"C:/Geotar/{pilot_nam}/geodata/Processed/Mask/{pilot_nam}_mask.shp\"\n",
    "    output = f\"C:/Geotar/{pilot_nam}/geodata/Processed/{res_folder}/dist_\"+ out_name+ \".tif\"\n",
    "    print(f\"You selected {pilot_nam} Roads.\")\n",
    "elif pilot == \"8\" and p_data == \"1\":\n",
    "    pilot_nam = \"AFG\"\n",
    "    input_shp = f\"C:/Geotar/{pilot_nam}/geodata/Processed/Education/education.shp\"\n",
    "    mask_shp = f\"C:/Geotar/{pilot_nam}/geodata/Processed/Mask/{pilot_nam}_mask.shp\"\n",
    "    output = f\"C:/Geotar/{pilot_nam}/geodata/Processed/{res_folder}/dist_\"+ out_name+ \".tif\"\n",
    "    print(f\"You selected {pilot_nam} Education facilities.\")\n",
    "elif pilot == \"8\" and p_data == \"2\":\n",
    "    pilot_nam = \"AFG\"\n",
    "    input_shp = f\"C:/Geotar/{pilot_nam}/geodata/Processed/Health/healthsites.shp\"\n",
    "    mask_shp = f\"C:/Geotar/{pilot_nam}/geodata/Processed/Mask/{pilot_nam}_mask.shp\"\n",
    "    output = f\"C:/Geotar/{pilot_nam}/geodata/Processed/{res_folder}/dist_\"+ out_name+ \".tif\"\n",
    "    print(f\"You selected {pilot_nam} Healthcare facilities.\")\n",
    "elif pilot == \"8\" and p_data == \"3\":\n",
    "    pilot_nam = \"AFG\"\n",
    "    input_shp = f\"C:/Geotar/{pilot_nam}/geodata/Processed/Roads/roads.shp\"\n",
    "    mask_shp = f\"C:/Geotar/{pilot_nam}/geodata/Processed/Mask/{pilot_nam}_mask.shp\"\n",
    "    output = f\"C:/Geotar/{pilot_nam}/geodata/Processed/{res_folder}/dist_\"+ out_name+ \".tif\"\n",
    "    print(f\"You selected {pilot_nam} Roads.\")\n",
    "\n",
    "\n",
    "\n",
    "else:\n",
    "    print(\"Invalid selection.\")"
   ]
  },
  {
   "cell_type": "code",
   "execution_count": 41,
   "id": "be80562d-eb36-4e11-8ab8-7b3a9e05cf5a",
   "metadata": {
    "tags": []
   },
   "outputs": [],
   "source": [
    "# select the pilot folder\n",
    "#pilot = \"IRAQ\"\n",
    "\n",
    "# Input GeoPandas object file path\n",
    "\n",
    "#CHAD\n",
    "#input_shp = 'C:/Geotar/CHAD/geodata/Raw/Roads/tcd_trs_roads_ocha/tcd_trs_roads_ocha.shp'\n",
    "# input_shp = f\"zip://C:/Geotar/{pilot}/geodata/Raw/Roads/irq_roads.zip/IRQ_roads.shp\"\n",
    "#mask_shp = \"C:/Geotar/CHAD/geodata/Processed/Mask/Chad_mask.shp\"\n",
    "#f'C:/Geotar/{pilot}/geodata/Processed/Mask/Najaf_mask.shp'\n",
    "\n",
    "\n",
    "#Colombia\n",
    "#input_shp = f'C:/Geotar/{pilot}/geodata/Raw/Roads/Red_nal_dep.shp'\n",
    "#input_shp = f'C:/Geotar/{pilot}/geodata/Raw/health/Colombia-node.shp'\n",
    "#mask_shp = f'C:/Geotar/{pilot}/geodata/Processed/Mask/COL_mask.shp'\n",
    "\n",
    "#\n",
    "\n",
    "# Output raster file path\n",
    "#output_file = f\"C:/Geotar/{pilot}/geodata/workspace/rast_road.tif\"\n",
    "#output_file = f\"C:/Geotar/{pilot}/geodata/workspace/rast_health.tif\"\n",
    "\n",
    "# Read the GeoPandas object\n",
    "gdf = gpd.read_file(input_shp)\n",
    "mask = gpd.read_file(mask_shp)\n",
    "# Clip the func_gdf using the mask\n",
    "gdf = gpd.clip(gdf, mask)\n",
    "\n",
    "output_shape = f\"C:/Geotar/{pilot_nam}/geodata/workspace/{out_name}.shp\"\n",
    "gdf.to_file(output_shape)"
   ]
  },
  {
   "cell_type": "code",
   "execution_count": 42,
   "id": "10a9a6f5-d9ee-4985-9d56-cb8040d77caa",
   "metadata": {},
   "outputs": [],
   "source": [
    "#input_shp = f\"C:/Geotar/{pilot}/geodata/workspace/roads_clip.shp\"\n",
    "input_shp = output_shape\n",
    "# Define NoData value of new raster\n",
    "NoData_value = -9999\n",
    "\n",
    "# set the name and location of the output raster file\n",
    "#dst_filename = f\"C:/Geotar/{pilot}/geodata/Processed/250m/dist_roads.tif\"\n",
    "dst_filename = f\"C:/Geotar/{pilot_nam}/geodata/workspace/{out_name}.tif\"\n",
    "\n",
    "# Open the data source and read in the extent\n",
    "source_ds = input_shp\n",
    "pixel_size = 0.0022457882102988 #250m\n",
    "\n",
    "vector_ds  = ogr.Open(mask_shp)\n",
    "shp_layer = vector_ds.GetLayer()\n",
    "\n",
    "xmin, xmax, ymin, ymax = shp_layer.GetExtent()\n",
    "\n",
    "# check if the output file already exists, and delete it if it does\n",
    "if os.path.exists(dst_filename):\n",
    "    drv = gdal.GetDriverByName('GTiff')\n",
    "    drv.Delete(output_file)\n",
    "\n",
    "# rasterize the vectori file with the spatial resolution defined\n",
    "ds = gdal.Rasterize(dst_filename, source_ds, xRes=pixel_size, yRes=pixel_size, \n",
    "                    burnValues=1,outputBounds=[xmin, ymin, xmax, ymax], \n",
    "                    outputType=gdal.GDT_Byte, allTouched=True)\n",
    "ds = None\n",
    "source_ds = None"
   ]
  },
  {
   "cell_type": "code",
   "execution_count": 43,
   "id": "c603877d-5d87-42f4-b660-47d27b732d88",
   "metadata": {
    "tags": []
   },
   "outputs": [],
   "source": [
    "# open an existing raster file\n",
    "#output_file = f\"C:/Geotar/{pilot}/geodata/workspace/rast_road.tif\"\n",
    "#output_file = f\"C:/Geotar/{pilot_nam}/geodata/workspace/rast_health.tif\"\n",
    "\n",
    "src_ds = gdal.Open(dst_filename)\n",
    "\n",
    "# get the first band of the source raster file\n",
    "srcband = src_ds.GetRasterBand(1)\n",
    "\n",
    "# set the name and location of the output raster file\n",
    "#dst_filename = f\"C:/Geotar/{pilot}/geodata/Processed/250m/dist_roads.tif\"\n",
    "\n",
    "\n",
    "# check if the output file already exists, and delete it if it does\n",
    "if os.path.exists(output):\n",
    "    drv = gdal.GetDriverByName('GTiff')\n",
    "    drv.Delete(dst_filename)\n",
    "\n",
    "# create a new raster file with the same dimensions and data type as the source raster file\n",
    "# but with only one band of Float32 data type\n",
    "drv = gdal.GetDriverByName('GTiff')\n",
    "dst_ds = drv.Create(output, \n",
    "                    src_ds.RasterXSize, \n",
    "                    src_ds.RasterYSize, 1, \n",
    "                    gdal.GetDataTypeByName('Float32'))\n",
    "\n",
    "# set the geotransform and projection of the output raster file\n",
    "dst_ds.SetGeoTransform(src_ds.GetGeoTransform())\n",
    "dst_ds.SetProjection(src_ds.GetProjectionRef())\n",
    "\n",
    "#get the first band of the output raster file\n",
    "dstband = dst_ds.GetRasterBand(1)\n",
    "\n",
    "# Compute the proximity of the input raster values to the raster value of 1 \n",
    "# and write the resulting distances to the output raster file\n",
    "prox = gdal.ComputeProximity(srcband, dstband, [\"VALUES=1\", \"DISTUNITS=GEO\"])\n",
    "\n",
    "# close the input and output raster files and bands to free up memory\n",
    "srcband = None\n",
    "dstband = None\n",
    "src_ds = None\n",
    "dst_ds = None\n",
    "prox = None\n"
   ]
  },
  {
   "cell_type": "code",
   "execution_count": 44,
   "id": "8a274e33-596f-4884-a386-205abfa89bd4",
   "metadata": {
    "tags": []
   },
   "outputs": [],
   "source": [
    "src_ds\n",
    "\n",
    "# Scaling to a fixed range 0-1\n",
    "#proximity_normalized = (proximity_agg - proximity_agg.min()) / (proximity_agg.max() - proximity_agg.min())\n"
   ]
  },
  {
   "cell_type": "code",
   "execution_count": null,
   "id": "80a0a1e4-146a-4354-9dcd-14efa44aca6a",
   "metadata": {},
   "outputs": [],
   "source": []
  }
 ],
 "metadata": {
  "kernelspec": {
   "display_name": "Python 3 (ipykernel)",
   "language": "python",
   "name": "python3"
  },
  "language_info": {
   "codemirror_mode": {
    "name": "ipython",
    "version": 3
   },
   "file_extension": ".py",
   "mimetype": "text/x-python",
   "name": "python",
   "nbconvert_exporter": "python",
   "pygments_lexer": "ipython3",
   "version": "3.10.8"
  }
 },
 "nbformat": 4,
 "nbformat_minor": 5
}
